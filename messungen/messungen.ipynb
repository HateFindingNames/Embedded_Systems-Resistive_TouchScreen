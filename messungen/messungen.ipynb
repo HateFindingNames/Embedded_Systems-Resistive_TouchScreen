{
 "cells": [
  {
   "cell_type": "code",
   "execution_count": null,
   "metadata": {},
   "outputs": [],
   "source": [
    "!pip install matplotlib numpy lmfit pandas\n",
    "import matplotlib.pyplot as plt\n",
    "import numpy as np\n",
    "import lmfit\n",
    "import pandas as pd"
   ]
  },
  {
   "cell_type": "code",
   "execution_count": null,
   "metadata": {},
   "outputs": [],
   "source": [
    "path_to_lin_y = \"./8_linearitaet_y.csv\"\n",
    "path_to_lin_x = \"./8_linearitaet_x.csv\"\n",
    "\n",
    "lin_x = pd.read_csv(path_to_lin_x, delimiter=\"\\t\")\n",
    "lin_y = pd.read_csv(path_to_lin_y, delimiter=\"\\t\")\n",
    "# labels = np.arange(0,220,10)\n",
    "def findEdges(data, thresh):\n",
    "\tbins = []\n",
    "\txval = 0\n",
    "\told_val = data.iloc[0]\n",
    "\tfor val in data:\n",
    "\t\tif (old_val - val) > thresh:\n",
    "\t\t\txval += 10\n",
    "\t\tbins.append(xval)\n",
    "\t\told_val = val\n",
    "\treturn bins"
   ]
  },
  {
   "cell_type": "code",
   "execution_count": null,
   "metadata": {},
   "outputs": [],
   "source": [
    "x_ticks = np.arange(0,220,10)\n",
    "bins = findEdges(lin_x[\"x\"], 10)\n",
    "fig, ax = plt.subplots(figsize=(16*2/3,9*2/3))\n",
    "ax.scatter(bins, lin_x[\"x\"], s=.5)\n",
    "ax.set_xticks(x_ticks)\n",
    "plt.tight_layout()\n",
    "plt.grid()\n",
    "plt.show()"
   ]
  },
  {
   "cell_type": "code",
   "execution_count": null,
   "metadata": {},
   "outputs": [],
   "source": [
    "x_axis_arr = np.arange(0,len(lin_y),1)\n",
    "bins = findEdges(lin_y[\"y\"], 10)\n",
    "fig, ax = plt.subplots(figsize=(16*2/3,9*2/3))\n",
    "ax.scatter(bins, lin_y[\"y\"], s=.5)\n",
    "plt.tight_layout()\n",
    "plt.grid()\n",
    "plt.show()"
   ]
  }
 ],
 "metadata": {
  "interpreter": {
   "hash": "2be5faf79681da6f2a61fdfdd5405d65d042280f7fba6178067603e3a2925119"
  },
  "kernelspec": {
   "display_name": "Python 3.10.2 64-bit",
   "language": "python",
   "name": "python3"
  },
  "language_info": {
   "codemirror_mode": {
    "name": "ipython",
    "version": 3
   },
   "file_extension": ".py",
   "mimetype": "text/x-python",
   "name": "python",
   "nbconvert_exporter": "python",
   "pygments_lexer": "ipython3",
   "version": "3.10.2"
  },
  "orig_nbformat": 4
 },
 "nbformat": 4,
 "nbformat_minor": 2
}
